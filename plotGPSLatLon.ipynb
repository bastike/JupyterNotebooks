{
 "cells": [
  {
   "cell_type": "code",
   "execution_count": 1,
   "metadata": {},
   "outputs": [
    {
     "name": "stdout",
     "output_type": "stream",
     "text": [
      "3.141592653589793\n",
      "-0.9963738956464584\n",
      "6399125.322887713\n",
      "6399437.520993738\n",
      "10.970697285059778 in m\n"
     ]
    }
   ],
   "source": [
    "import math"
   ]
  },
  {
   "cell_type": "code",
   "execution_count": null,
   "metadata": {
    "collapsed": true
   },
   "outputs": [],
   "source": []
  },
  {
   "cell_type": "code",
   "execution_count": null,
   "metadata": {
    "collapsed": true
   },
   "outputs": [],
   "source": [
    "import math\n",
    "#Koordinaten Thomas kml Nw_Ke_kml\n",
    "#47.6539\n",
    "#10.46236\n",
    "#47.65395\n",
    "#10.46186\n",
    "\n",
    "#Liniem1Grid\n",
    "lat1 =48.7798717857\n",
    "lon1 = 8.90761126977\n",
    "\n",
    "#Liniep4Grid\n",
    "lat2 = 48.7799677995\n",
    "lon2 = 8.90764274181\n",
    "\n",
    "lat3 = 47.8098971818\n",
    "lon3 = 10.3026356832\n",
    "\n",
    "\n",
    "#Referenzpunkt auf dem Band stimmt sicher\n",
    "#lat1  = 47.73415\n",
    "#lon1 = 10.34673\n",
    "pointA=[lat1,lon1]\n",
    "\n",
    "#GPS-Punkt Lichtschranke nicht sicher\n",
    "#fehler1: nicht genau auf der Lichtschranke (+-5cm)\n",
    "\n",
    "\n",
    "\n",
    "#lat2 = 47.73221\n",
    "#lon2 = 10.34852\n",
    "\n",
    "#lat2 = 47.7188056\n",
    "#lon2 = 10.3285575\n",
    "pointB=[lat2,lon2]\n",
    "\n",
    "R = 6378137.0\n",
    "#Exzentrizität\n",
    "en = 0.0818191908426\n",
    "#Pi, sin\n",
    "pi = math.pi\n",
    "print(pi)\n",
    "#Radius Richtung Norden\n",
    "i = math.sin(lat1)\n",
    "print(i)\n",
    "Rn = (R*(1-en*en))/((1-en*en*math.sin(lat1)*math.sin(lat1))**1.5)\n",
    "print(Rn)\n",
    "#Radius Richtung Osten\n",
    "Ro = R/((1-en**2*math.sin(lat1)**2)**(0.5))\n",
    "print(Ro)\n",
    "#Skalierungsfaktor Norden in m/° Abstand in Meter nach Norden, zwischen Breitengraden\n",
    "SFn=Rn*(pi/180)\n",
    "#Skalierungsfaktor Osten in m/° Abstand in Meter nach Osten, zwischen Längengraden\n",
    "SFo=Ro*(pi/180)*math.cos(lat1*pi/180)\n",
    "#Abstand zwischen den beiden GPS-Punkten in Y-Richtung Norden in Meter\n",
    "Sx = (lon2-lon1)*SFo\n",
    "\n",
    "#Abstand zwischen den beiden GPS-Punkten in X-Richtung Osten in Meter\n",
    "Sy = (lat2-lat1)*SFn\n",
    "\n",
    "#Distanz zwischen den beiden GPS-Punkten\n",
    "S = math.sqrt(Sy*Sy+Sx*Sx)\n",
    "\n",
    "print(S,'in m')"
   ]
  },
  {
   "cell_type": "code",
   "execution_count": 2,
   "metadata": {
    "collapsed": true
   },
   "outputs": [],
   "source": [
    "def calculate_initial_compass_bearing(pointA, pointB):\n",
    "    \"\"\"\n",
    "    Calculates the bearing between two points.\n",
    "    The formulae used is the following:\n",
    "        θ = atan2(sin(Δlong).cos(lat2),\n",
    "                  cos(lat1).sin(lat2) − sin(lat1).cos(lat2).cos(Δlong))\n",
    "    :Parameters:\n",
    "      - `pointA: The tuple representing the latitude/longitude for the\n",
    "        first point. Latitude and longitude must be in decimal degrees\n",
    "      - `pointB: The tuple representing the latitude/longitude for the\n",
    "        second point. Latitude and longitude must be in decimal degrees\n",
    "    :Returns:\n",
    "      The bearing in degrees\n",
    "    :Returns Type:\n",
    "      float\n",
    "    \"\"\"\n",
    "\n",
    "    lat1 = math.radians(pointA[0])\n",
    "    lat2 = math.radians(pointB[0])\n",
    "\n",
    "    diffLong = math.radians(pointB[1] - pointA[1])\n",
    "\n",
    "    x = math.sin(diffLong) * math.cos(lat2)\n",
    "    y = math.cos(lat1) * math.sin(lat2) - (math.sin(lat1)\n",
    "            * math.cos(lat2) * math.cos(diffLong))\n",
    "\n",
    "    initial_bearing = math.atan2(x, y)\n",
    "\n",
    "    # Now we have the initial bearing but math.atan2 return values\n",
    "    # from -180° to + 180° which is not what we want for a compass bearing\n",
    "    # The solution is to normalize the initial bearing as shown below\n",
    "    initial_bearing = math.degrees(initial_bearing)\n",
    "    compass_bearing = (-initial_bearing + 360) % 360\n",
    "\n",
    "    return compass_bearing\n",
    "\n",
    "compass_bearing = calculate_initial_compass_bearing(pointA,pointB)"
   ]
  },
  {
   "cell_type": "code",
   "execution_count": 3,
   "metadata": {},
   "outputs": [
    {
     "name": "stdout",
     "output_type": "stream",
     "text": [
      "Der Weg vom Referenzpunkt zur Lichtschranke beträgt 10.970697285059778\n",
      "Der Weg in Richtung X(Osten) vom Referenzpunkt zur Lichtschranke beträgt 2.3163223429730655\n",
      "Der Weg in Richtung Y(Norden) vom Referenzpunkt zur Lichtschranke beträgt 10.72337865245193\n",
      "Die Himmelsausrichung beträgt 347.81159642841817\n"
     ]
    }
   ],
   "source": [
    "print('Der Weg vom Referenzpunkt zur Lichtschranke beträgt', S)\n",
    "print('Der Weg in Richtung X(Osten) vom Referenzpunkt zur Lichtschranke beträgt', Sx)\n",
    "print('Der Weg in Richtung Y(Norden) vom Referenzpunkt zur Lichtschranke beträgt', Sy)\n",
    "print('Die Himmelsausrichung beträgt', compass_bearing)"
   ]
  },
  {
   "cell_type": "code",
   "execution_count": 4,
   "metadata": {
    "scrolled": true
   },
   "outputs": [
    {
     "data": {
      "text/html": [
       "<div style=\"width:100%;\"><div style=\"position:relative;width:100%;height:0;padding-bottom:60%;\"><iframe src=\"data:text/html;charset=utf-8;base64,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\" style=\"position:absolute;width:100%;height:100%;left:0;top:0;border:none !important;\" allowfullscreen webkitallowfullscreen mozallowfullscreen></iframe></div></div>"
      ],
      "text/plain": [
       "<folium.folium.Map at 0x16013bafcf8>"
      ]
     },
     "execution_count": 4,
     "metadata": {},
     "output_type": "execute_result"
    }
   ],
   "source": [
    "import folium\n",
    "import numpy as np\n",
    "\n",
    "#latmitte\n",
    "#lonmitte\n",
    "\n",
    "MiddleLat = abs(lat1+lat2)/2 \n",
    "MiddleLon = abs(lon1+lon2)/2\n",
    "\n",
    "#Create Object of map \n",
    "#Folium defaults to OpenStreetMap tiles, but Stamen Terrain, Stamen Toner, Mapbox Bright, and Mapbox Control room tiles are built in:\n",
    "#map_osm = folium.Map(location=[StartLat, StartLon])\n",
    "map_osm = folium.Map(location=[MiddleLat, MiddleLon],zoom_start=13)\n",
    "\n",
    "#add markers\n",
    "#for each in points:\n",
    "folium.Marker(location=[lat1, lon1]).add_to(map_osm)\n",
    "folium.Marker(location=[lat2, lon2]).add_to(map_osm)\n",
    "folium.Marker(location=[47.560981, 10.138423]).add_to(map_osm)\n",
    "folium.CircleMarker([47.640089, 10.316742],\n",
    "                    radius=500,\n",
    "                    popup='Laurelhurst Park',\n",
    "                    color='#3186cc',\n",
    "                    fill=True,\n",
    "                    fill_color='#3186cc',\n",
    "                   ).add_to(map_osm)\n",
    "#folium.simple_marker(location=[lat1, lon1]).add_to(map_osm)\n",
    "\n",
    "#folium.simple_marker(location=[lat2, lon2].add_to(map_osm)                 \n",
    "#add lines\n",
    "#folium.PolyLine(point1,color=\"red\", weight=5, opacity=1).add_to(map_osm)\n",
    "\n",
    "#add lines\n",
    "#folium.PolyLine(point2,color=\"red\", weight=5, opacity=1).add_to(map_osm)\n",
    "\n",
    "map_osm"
   ]
  },
  {
   "cell_type": "code",
   "execution_count": 5,
   "metadata": {},
   "outputs": [
    {
     "data": {
      "text/html": [
       "<iframe id=\"igraph\" scrolling=\"no\" style=\"border:none;\" seamless=\"seamless\" src=\"https://plot.ly/~basti.ke/17.embed\" height=\"525px\" width=\"100%\"></iframe>"
      ],
      "text/plain": [
       "<plotly.tools.PlotlyDisplay object>"
      ]
     },
     "execution_count": 5,
     "metadata": {},
     "output_type": "execute_result"
    }
   ],
   "source": [
    "import plotly.plotly as py\n",
    "import plotly.graph_objs as go\n",
    "from plotly.tools import FigureFactory as FF\n",
    "import plotly\n",
    "plotly.tools.set_credentials_file(username='basti.ke', api_key='bN8aR47xuAdWXaQc0GYk')\n",
    "from plotly.graph_objs import *\n",
    "\n",
    "GPSPunkt1 = go.Scatter(\n",
    "    x = lon1,\n",
    "    y = lat1,\n",
    "    mode='markers',\n",
    "    name='Referenzpunkt',\n",
    "    marker=dict(\n",
    "        size=10\n",
    "    )\n",
    ")\n",
    "\n",
    "GPSPunkt2 = go.Scatter(\n",
    "    x = lon2,\n",
    "    y = lat2,\n",
    "    mode='markers',\n",
    "    name='Lasermessungspunkt',\n",
    "    marker=dict(\n",
    "        size=10\n",
    "    )\n",
    ")\n",
    "\n",
    "GPSPunkt3 = go.Scatter(\n",
    "    x = lon3,\n",
    "    y = lat3,\n",
    "    mode='markers',\n",
    "    name='Lasermessungspunkt',\n",
    "    marker=dict(\n",
    "        size=10\n",
    "    )\n",
    ")\n",
    "\n",
    "\n",
    "#define data to plot\n",
    "data = [GPSPunkt1,GPSPunkt2,GPSPunkt3]\n",
    "\n",
    "\n",
    "#define layout to plot\n",
    "layout = go.Layout(\n",
    "    title='Polynominal Fitting in Python',\n",
    ")\n",
    "\n",
    "#object to plot\n",
    "fig = go.Figure(data=data, layout=layout)\n",
    "#fig = dict(data=data, layout=layout)  \n",
    "py.iplot(fig, filename='Polynominal Fitting in Python')"
   ]
  },
  {
   "cell_type": "code",
   "execution_count": null,
   "metadata": {
    "collapsed": true
   },
   "outputs": [],
   "source": []
  },
  {
   "cell_type": "code",
   "execution_count": null,
   "metadata": {
    "collapsed": true
   },
   "outputs": [],
   "source": []
  }
 ],
 "metadata": {
  "kernelspec": {
   "display_name": "Python 3",
   "language": "python",
   "name": "python3"
  },
  "language_info": {
   "codemirror_mode": {
    "name": "ipython",
    "version": 3
   },
   "file_extension": ".py",
   "mimetype": "text/x-python",
   "name": "python",
   "nbconvert_exporter": "python",
   "pygments_lexer": "ipython3",
   "version": "3.6.2"
  }
 },
 "nbformat": 4,
 "nbformat_minor": 2
}
